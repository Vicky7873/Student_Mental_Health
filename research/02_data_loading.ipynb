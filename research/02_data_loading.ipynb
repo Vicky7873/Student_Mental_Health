{
 "cells": [
  {
   "cell_type": "code",
   "execution_count": 1,
   "metadata": {},
   "outputs": [
    {
     "data": {
      "text/plain": [
       "'/Users/bhikipallai/Desktop/Projects/Student_Mental_Health/Student_Mental_Health/research'"
      ]
     },
     "execution_count": 1,
     "metadata": {},
     "output_type": "execute_result"
    }
   ],
   "source": [
    "%pwd"
   ]
  },
  {
   "cell_type": "code",
   "execution_count": 2,
   "metadata": {},
   "outputs": [],
   "source": [
    "import os"
   ]
  },
  {
   "cell_type": "code",
   "execution_count": 3,
   "metadata": {},
   "outputs": [],
   "source": [
    "os.chdir(\"../.\")"
   ]
  },
  {
   "cell_type": "code",
   "execution_count": 4,
   "metadata": {},
   "outputs": [
    {
     "data": {
      "text/plain": [
       "'/Users/bhikipallai/Desktop/Projects/Student_Mental_Health/Student_Mental_Health'"
      ]
     },
     "execution_count": 4,
     "metadata": {},
     "output_type": "execute_result"
    }
   ],
   "source": [
    "%pwd"
   ]
  },
  {
   "cell_type": "code",
   "execution_count": 5,
   "metadata": {},
   "outputs": [],
   "source": [
    "# Entity"
   ]
  },
  {
   "cell_type": "code",
   "execution_count": 6,
   "metadata": {},
   "outputs": [],
   "source": [
    "from dataclasses import dataclass\n",
    "from pathlib import Path\n",
    "\n",
    "@dataclass(frozen=True)\n",
    "class DataloadingConfig:\n",
    "    root_dir: Path\n",
    "    data_path: Path\n",
    "    X_train: Path\n",
    "    X_test: Path\n",
    "    y_train: Path\n",
    "    y_test: Path\n",
    "    test_size: float"
   ]
  },
  {
   "cell_type": "code",
   "execution_count": 7,
   "metadata": {},
   "outputs": [],
   "source": [
    "# for config manger\n",
    "from src.constants import *\n",
    "from src.utils.common import read_yaml, create_directories"
   ]
  },
  {
   "cell_type": "code",
   "execution_count": 8,
   "metadata": {},
   "outputs": [],
   "source": [
    "class ConfigurationManager:\n",
    "    def __init__(self, config_file_path=CONFIG_FILE_PATH,params_file_path=PARAMS_FILE_PATH):\n",
    "        self.config = read_yaml(config_file_path)\n",
    "        self.params = read_yaml(params_file_path)\n",
    "\n",
    "        create_directories([self.config.data_root])\n",
    "    \n",
    "    def get_data_loading_config(self) -> DataloadingConfig:\n",
    "        config = self.config.data_loading\n",
    "        params = self.params.test_size_args\n",
    "        create_directories([config.root_dir])\n",
    "        data_loading_config = DataloadingConfig(\n",
    "            root_dir=config.root_dir,\n",
    "            data_path=config.data_path,\n",
    "            X_train = config.X_train,\n",
    "            y_train = config.y_train,\n",
    "            X_test = config.X_test,\n",
    "            y_test = config.y_test,\n",
    "            test_size = params.test_size,\n",
    "        )\n",
    "        return data_loading_config"
   ]
  },
  {
   "cell_type": "code",
   "execution_count": 9,
   "metadata": {},
   "outputs": [],
   "source": [
    "import os\n",
    "import zipfile\n",
    "import urllib.request as request\n",
    "import pandas as pd\n",
    "from src.logging import logger\n",
    "from src.componnents.data_ingestion import DataIngestion\n",
    "from src.entity import DataIngestionConfig\n",
    "from sklearn.model_selection import train_test_split"
   ]
  },
  {
   "cell_type": "code",
   "execution_count": 16,
   "metadata": {},
   "outputs": [],
   "source": [
    "import os\n",
    "class DataLoading:\n",
    "    def __init__(self, config: DataloadingConfig):\n",
    "        self.config = config\n",
    "\n",
    "    def get_data_loading(self):\n",
    "        config2 = DataIngestionConfig(root_dir=self.config.root_dir, data_path=self.config.data_path)\n",
    "        data_ingestion = DataIngestion(config2)\n",
    "        df = data_ingestion.get_data()\n",
    "        return df\n",
    "    \n",
    "    def split_data(self):\n",
    "        df = self.get_data_loading()\n",
    "        X = df.drop('depression',axis=1)\n",
    "        y = df['depression']\n",
    "        X_train, X_test, y_train, y_test = train_test_split(X, y, test_size=self.config.test_size, random_state=42)\n",
    "        return X_train, X_test, y_train, y_test\n",
    "\n",
    "    def save_data(self):\n",
    "        X_train, X_test, y_train, y_test = self.split_data()\n",
    "        # if file exists skip else create it\n",
    "        if not os.path.exists(self.config.X_train) and not os.path.exists(self.config.y_train) and not os.path.exists(self.config.X_test) and not os.path.exists(self.config.y_test):\n",
    "            X_train.to_csv(self.config.X_train, index = False)\n",
    "            X_test.to_csv(self.config.X_test, index = False)\n",
    "            y_train.to_csv(self.config.y_train, index = False)\n",
    "            y_test.to_csv(self.config.y_test, index = False)\n",
    "        else:\n",
    "            print(\"Files already exist\")\n"
   ]
  },
  {
   "cell_type": "code",
   "execution_count": 17,
   "metadata": {},
   "outputs": [
    {
     "name": "stdout",
     "output_type": "stream",
     "text": [
      "[2024-08-28 23:11:02,807: INFO: common: Yaml file: config/config.yaml loaded successfully]\n",
      "[2024-08-28 23:11:02,809: INFO: common: Yaml file: params.yaml loaded successfully]\n",
      "[2024-08-28 23:11:02,809: INFO: common: created directory at: data]\n",
      "[2024-08-28 23:11:02,810: INFO: common: created directory at: data/data_loading]\n",
      "   gender  age university   degree_level      degree_major academic_year  \\\n",
      "0    Male   20         PU  Undergraduate      Data Science      2nd year   \n",
      "1    Male   20        UET   Postgraduate  Computer Science      3rd year   \n",
      "2    Male   20       FAST  Undergraduate  Computer Science      3rd year   \n",
      "3    Male   20        UET  Undergraduate  Computer Science      3rd year   \n",
      "4  Female   20        UET  Undergraduate  Computer Science      3rd year   \n",
      "\n",
      "      cgpa residential_status campus_discrimination sports_engagement  ...  \\\n",
      "0  3.0-3.5         Off-Campus                    No         No Sports  ...   \n",
      "1  3.0-3.5         Off-Campus                    No         1-3 times  ...   \n",
      "2  2.5-3.0         Off-Campus                    No         1-3 times  ...   \n",
      "3  2.5-3.0          On-Campus                    No         No Sports  ...   \n",
      "4  3.0-3.5         Off-Campus                   Yes         No Sports  ...   \n",
      "\n",
      "  study_satisfaction  academic_workload   academic_pressure  \\\n",
      "0                  5                   4                  5   \n",
      "1                  5                   4                  4   \n",
      "2                  5                   5                  5   \n",
      "3                  3                   5                  4   \n",
      "4                  3                   5                  5   \n",
      "\n",
      "   financial_concerns  social_relationships  depression  anxiety  isolation  \\\n",
      "0                   4                     3           2        1          1   \n",
      "1                   1                     3           3        3          3   \n",
      "2                   3                     4           2        3          3   \n",
      "3                   4                     1           5        5          5   \n",
      "4                   2                     3           5        5          4   \n",
      "\n",
      "   future_insecurity                           stress_relief_activities  \n",
      "0                  2  Religious Activities, Social Connections, Onli...  \n",
      "1                  4                               Online Entertainment  \n",
      "2                  1  Religious Activities, Sports and Fitness, Onli...  \n",
      "3                  3                               Online Entertainment  \n",
      "4                  4                               Online Entertainment  \n",
      "\n",
      "[5 rows x 21 columns]\n",
      "   gender  age university   degree_level      degree_major academic_year  \\\n",
      "0    Male   20         PU  Undergraduate      Data Science      2nd year   \n",
      "1    Male   20        UET   Postgraduate  Computer Science      3rd year   \n",
      "2    Male   20       FAST  Undergraduate  Computer Science      3rd year   \n",
      "3    Male   20        UET  Undergraduate  Computer Science      3rd year   \n",
      "4  Female   20        UET  Undergraduate  Computer Science      3rd year   \n",
      "\n",
      "      cgpa residential_status campus_discrimination sports_engagement  ...  \\\n",
      "0  3.0-3.5         Off-Campus                    No         No Sports  ...   \n",
      "1  3.0-3.5         Off-Campus                    No         1-3 times  ...   \n",
      "2  2.5-3.0         Off-Campus                    No         1-3 times  ...   \n",
      "3  2.5-3.0          On-Campus                    No         No Sports  ...   \n",
      "4  3.0-3.5         Off-Campus                   Yes         No Sports  ...   \n",
      "\n",
      "  study_satisfaction  academic_workload   academic_pressure  \\\n",
      "0                  5                   4                  5   \n",
      "1                  5                   4                  4   \n",
      "2                  5                   5                  5   \n",
      "3                  3                   5                  4   \n",
      "4                  3                   5                  5   \n",
      "\n",
      "   financial_concerns  social_relationships  depression  anxiety  isolation  \\\n",
      "0                   4                     3           2        1          1   \n",
      "1                   1                     3           3        3          3   \n",
      "2                   3                     4           2        3          3   \n",
      "3                   4                     1           5        5          5   \n",
      "4                   2                     3           5        5          4   \n",
      "\n",
      "   future_insecurity                           stress_relief_activities  \n",
      "0                  2  Religious Activities, Social Connections, Onli...  \n",
      "1                  4                               Online Entertainment  \n",
      "2                  1  Religious Activities, Sports and Fitness, Onli...  \n",
      "3                  3                               Online Entertainment  \n",
      "4                  4                               Online Entertainment  \n",
      "\n",
      "[5 rows x 21 columns]\n",
      "Files already exist\n"
     ]
    }
   ],
   "source": [
    "config_manager = ConfigurationManager()\n",
    "data_loading_config = config_manager.get_data_loading_config()\n",
    "data_loader = DataLoading(config=data_loading_config)\n",
    "df = data_loader.get_data_loading()\n",
    "data_loader.save_data()"
   ]
  },
  {
   "cell_type": "code",
   "execution_count": 12,
   "metadata": {},
   "outputs": [
    {
     "name": "stdout",
     "output_type": "stream",
     "text": [
      "   gender  age university   degree_level      degree_major academic_year  \\\n",
      "0    Male   20         PU  Undergraduate      Data Science      2nd year   \n",
      "1    Male   20        UET   Postgraduate  Computer Science      3rd year   \n",
      "2    Male   20       FAST  Undergraduate  Computer Science      3rd year   \n",
      "3    Male   20        UET  Undergraduate  Computer Science      3rd year   \n",
      "4  Female   20        UET  Undergraduate  Computer Science      3rd year   \n",
      "\n",
      "      cgpa residential_status campus_discrimination sports_engagement  ...  \\\n",
      "0  3.0-3.5         Off-Campus                    No         No Sports  ...   \n",
      "1  3.0-3.5         Off-Campus                    No         1-3 times  ...   \n",
      "2  2.5-3.0         Off-Campus                    No         1-3 times  ...   \n",
      "3  2.5-3.0          On-Campus                    No         No Sports  ...   \n",
      "4  3.0-3.5         Off-Campus                   Yes         No Sports  ...   \n",
      "\n",
      "  study_satisfaction  academic_workload   academic_pressure  \\\n",
      "0                  5                   4                  5   \n",
      "1                  5                   4                  4   \n",
      "2                  5                   5                  5   \n",
      "3                  3                   5                  4   \n",
      "4                  3                   5                  5   \n",
      "\n",
      "   financial_concerns  social_relationships  depression  anxiety  isolation  \\\n",
      "0                   4                     3           2        1          1   \n",
      "1                   1                     3           3        3          3   \n",
      "2                   3                     4           2        3          3   \n",
      "3                   4                     1           5        5          5   \n",
      "4                   2                     3           5        5          4   \n",
      "\n",
      "   future_insecurity                           stress_relief_activities  \n",
      "0                  2  Religious Activities, Social Connections, Onli...  \n",
      "1                  4                               Online Entertainment  \n",
      "2                  1  Religious Activities, Sports and Fitness, Onli...  \n",
      "3                  3                               Online Entertainment  \n",
      "4                  4                               Online Entertainment  \n",
      "\n",
      "[5 rows x 21 columns]\n"
     ]
    }
   ],
   "source": [
    "from src.componnents.data_ingestion import DataIngestion\n",
    "from src.entity import DataIngestionConfig\n",
    "\n",
    "config = DataIngestionConfig(root_dir='data/data_ingestion', data_path='data/MentalHealthSurvey.csv')\n",
    "data_ingestion = DataIngestion(config)\n",
    "\n",
    "# Move the file if it hasn't been moved yet\n",
    "# data_ingestion.move_file_to_data_ingestion()\n",
    "\n",
    "# Read and display the data\n",
    "df = data_ingestion.get_data()\n"
   ]
  },
  {
   "cell_type": "code",
   "execution_count": null,
   "metadata": {},
   "outputs": [],
   "source": []
  }
 ],
 "metadata": {
  "kernelspec": {
   "display_name": "studentMH",
   "language": "python",
   "name": "python3"
  },
  "language_info": {
   "codemirror_mode": {
    "name": "ipython",
    "version": 3
   },
   "file_extension": ".py",
   "mimetype": "text/x-python",
   "name": "python",
   "nbconvert_exporter": "python",
   "pygments_lexer": "ipython3",
   "version": "3.12.4"
  }
 },
 "nbformat": 4,
 "nbformat_minor": 2
}
