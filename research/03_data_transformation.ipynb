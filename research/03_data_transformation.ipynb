{
 "cells": [
  {
   "cell_type": "code",
   "execution_count": 1,
   "metadata": {},
   "outputs": [
    {
     "data": {
      "text/plain": [
       "'/Users/bhikipallai/Desktop/Projects/Student_Mental_Health/Student_Mental_Health/research'"
      ]
     },
     "execution_count": 1,
     "metadata": {},
     "output_type": "execute_result"
    }
   ],
   "source": [
    "%pwd"
   ]
  },
  {
   "cell_type": "code",
   "execution_count": 2,
   "metadata": {},
   "outputs": [],
   "source": [
    "import os"
   ]
  },
  {
   "cell_type": "code",
   "execution_count": 3,
   "metadata": {},
   "outputs": [],
   "source": [
    "os.chdir(\"../.\")"
   ]
  },
  {
   "cell_type": "code",
   "execution_count": 4,
   "metadata": {},
   "outputs": [
    {
     "data": {
      "text/plain": [
       "'/Users/bhikipallai/Desktop/Projects/Student_Mental_Health/Student_Mental_Health'"
      ]
     },
     "execution_count": 4,
     "metadata": {},
     "output_type": "execute_result"
    }
   ],
   "source": [
    "%pwd"
   ]
  },
  {
   "cell_type": "code",
   "execution_count": 5,
   "metadata": {},
   "outputs": [],
   "source": [
    "from dataclasses import dataclass\n",
    "from pathlib import Path\n",
    "\n",
    "@dataclass(frozen=True)\n",
    "class DataTransformationConfig:\n",
    "    root_dir: Path\n",
    "    X_train: Path\n",
    "    X_test: Path\n",
    "    y_train: Path\n",
    "    y_test: Path\n",
    "    X_train_processed: Path\n",
    "    X_test_processed: Path\n",
    "    y_train_processed: Path\n",
    "    y_test_processed: Path"
   ]
  },
  {
   "cell_type": "code",
   "execution_count": 6,
   "metadata": {},
   "outputs": [],
   "source": [
    "# for config Manger\n",
    "from src.constants import *\n",
    "from src.utils.common import read_yaml, create_directories"
   ]
  },
  {
   "cell_type": "code",
   "execution_count": 7,
   "metadata": {},
   "outputs": [],
   "source": [
    "class ConfigurationManager:\n",
    "    def __init__(self,config_filepath = CONFIG_FILE_PATH,params_filepath = PARAMS_FILE_PATH):\n",
    "        self.config = read_yaml(config_filepath)\n",
    "        self.params = read_yaml(params_filepath)\n",
    "\n",
    "        create_directories([self.config.data_root])\n",
    "\n",
    "    def get_data_transform(self)->DataTransformationConfig:\n",
    "        config = self.config.data_preprocessing\n",
    "\n",
    "        create_directories([config.root_dir])\n",
    "        data_transform_config = DataTransformationConfig(\n",
    "            root_dir = config.root_dir,\n",
    "            X_train = config.X_train,\n",
    "            X_test = config.X_test,\n",
    "            y_train = config.y_train,\n",
    "            y_test = config.y_test,\n",
    "            X_train_processed = config.X_train_processed,\n",
    "            X_test_processed = config.X_test_processed,\n",
    "            y_train_processed = config.y_train_processed,\n",
    "            y_test_processed = config.y_test_processed\n",
    "        )\n",
    "        return data_transform_config"
   ]
  },
  {
   "cell_type": "code",
   "execution_count": 8,
   "metadata": {},
   "outputs": [],
   "source": [
    "import os\n",
    "import pandas as pd\n",
    "from sklearn.preprocessing import LabelEncoder"
   ]
  },
  {
   "cell_type": "code",
   "execution_count": 9,
   "metadata": {},
   "outputs": [],
   "source": [
    "from sklearn.preprocessing import LabelEncoder\n",
    "import os\n",
    "import os\n",
    "import os\n",
    "import pandas as pd\n",
    "class DataTransformation:\n",
    "    def __init__(self,config:DataTransformationConfig):\n",
    "        self.config = config\n",
    "    \n",
    "    def get_data_transform(self):\n",
    "        X_train_one = self.config.X_train\n",
    "        X_test_one = self.config.X_test\n",
    "\n",
    "        X_train = pd.read_csv(X_train_one)\n",
    "        X_test = pd.read_csv(X_test_one)\n",
    "\n",
    "        le = LabelEncoder()\n",
    "\n",
    "        for col in X_train.columns:\n",
    "            if X_train[col].dtype == 'object':\n",
    "                X_train[col] = le.fit_transform(X_train[col])\n",
    "        \n",
    "        for col in X_test.columns:\n",
    "            if X_test[col].dtype == 'object':\n",
    "                X_test[col] = le.fit_transform(X_test[col])\n",
    "\n",
    "        X_train_encoded = X_train\n",
    "        X_test_encoded = X_test\n",
    "        print(X_train_encoded.head(2))\n",
    "        return X_train_encoded, X_test_encoded\n",
    "    \n",
    "    def move_encoded_data(self):\n",
    "        X_train_encoded,X_test_encoded = self.get_data_transform()\n",
    "        if not os.path.exists(self.config.X_train_processed) and not os.path.exists(self.config.X_test_processed):\n",
    "            X_train_encoded.to_csv(self.config.X_train_processed, index = False)\n",
    "            X_test_encoded.to_csv(self.config.X_test_processed, index = False)\n",
    "        else:\n",
    "            print(\"Files already exists\")"
   ]
  },
  {
   "cell_type": "code",
   "execution_count": 10,
   "metadata": {},
   "outputs": [
    {
     "name": "stdout",
     "output_type": "stream",
     "text": [
      "[2024-08-29 07:36:50,667: INFO: common: Yaml file: config/config.yaml loaded successfully]\n",
      "[2024-08-29 07:36:50,668: INFO: common: Yaml file: params.yaml loaded successfully]\n",
      "[2024-08-29 07:36:50,669: INFO: common: created directory at: data]\n",
      "[2024-08-29 07:36:50,669: INFO: common: created directory at: data/data_preprocessing]\n",
      "   gender  age  university  degree_level  degree_major  academic_year  cgpa  \\\n",
      "0       1   21           4             1             1              1     3   \n",
      "1       0   19           5             1             0              2     4   \n",
      "\n",
      "   residential_status  campus_discrimination  sports_engagement  \\\n",
      "0                   1                      1                  1   \n",
      "1                   1                      0                  3   \n",
      "\n",
      "   average_sleep  study_satisfaction  academic_workload   academic_pressure  \\\n",
      "0              1                   3                   4                  5   \n",
      "1              1                   3                   5                  5   \n",
      "\n",
      "   financial_concerns  social_relationships  anxiety  isolation  \\\n",
      "0                   3                     4        1          1   \n",
      "1                   3                     3        5          3   \n",
      "\n",
      "   future_insecurity  \n",
      "0                  1  \n",
      "1                  5  \n",
      "   gender  age  university  degree_level  degree_major  academic_year  cgpa  \\\n",
      "0       1   21           4             1             1              1     3   \n",
      "1       0   19           5             1             0              2     4   \n",
      "\n",
      "   residential_status  campus_discrimination  sports_engagement  \\\n",
      "0                   1                      1                  1   \n",
      "1                   1                      0                  3   \n",
      "\n",
      "   average_sleep  study_satisfaction  academic_workload   academic_pressure  \\\n",
      "0              1                   3                   4                  5   \n",
      "1              1                   3                   5                  5   \n",
      "\n",
      "   financial_concerns  social_relationships  anxiety  isolation  \\\n",
      "0                   3                     4        1          1   \n",
      "1                   3                     3        5          3   \n",
      "\n",
      "   future_insecurity  \n",
      "0                  1  \n",
      "1                  5  \n"
     ]
    }
   ],
   "source": [
    "config = ConfigurationManager()\n",
    "load_config = config.get_data_transform()\n",
    "data_transform = DataTransformation(config=load_config)\n",
    "data_transform.get_data_transform()\n",
    "data_transform.move_encoded_data()\n"
   ]
  },
  {
   "cell_type": "code",
   "execution_count": null,
   "metadata": {},
   "outputs": [],
   "source": []
  }
 ],
 "metadata": {
  "kernelspec": {
   "display_name": "studentMH",
   "language": "python",
   "name": "python3"
  },
  "language_info": {
   "codemirror_mode": {
    "name": "ipython",
    "version": 3
   },
   "file_extension": ".py",
   "mimetype": "text/x-python",
   "name": "python",
   "nbconvert_exporter": "python",
   "pygments_lexer": "ipython3",
   "version": "3.12.4"
  }
 },
 "nbformat": 4,
 "nbformat_minor": 2
}
