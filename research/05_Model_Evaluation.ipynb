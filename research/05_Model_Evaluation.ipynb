{
 "cells": [
  {
   "cell_type": "code",
   "execution_count": 1,
   "metadata": {},
   "outputs": [
    {
     "data": {
      "text/plain": [
       "'/Users/bhikipallai/Desktop/Projects/Student_Mental_Health/Student_Mental_Health/research'"
      ]
     },
     "execution_count": 1,
     "metadata": {},
     "output_type": "execute_result"
    }
   ],
   "source": [
    "%pwd"
   ]
  },
  {
   "cell_type": "code",
   "execution_count": 2,
   "metadata": {},
   "outputs": [],
   "source": [
    "import os"
   ]
  },
  {
   "cell_type": "code",
   "execution_count": 3,
   "metadata": {},
   "outputs": [],
   "source": [
    "os.chdir(\"../.\")"
   ]
  },
  {
   "cell_type": "code",
   "execution_count": 4,
   "metadata": {},
   "outputs": [
    {
     "data": {
      "text/plain": [
       "'/Users/bhikipallai/Desktop/Projects/Student_Mental_Health/Student_Mental_Health'"
      ]
     },
     "execution_count": 4,
     "metadata": {},
     "output_type": "execute_result"
    }
   ],
   "source": [
    "%pwd"
   ]
  },
  {
   "cell_type": "code",
   "execution_count": 5,
   "metadata": {},
   "outputs": [],
   "source": [
    "from dataclasses import dataclass\n",
    "from pathlib import Path\n",
    "\n",
    "@dataclass(frozen=True)\n",
    "class ModelEvaluatioConfig:\n",
    "    root_dir: Path\n",
    "    model_path: Path\n",
    "    X_test_processed: Path\n",
    "    y_test_processed: Path\n",
    "    save_param: Path"
   ]
  },
  {
   "cell_type": "code",
   "execution_count": 6,
   "metadata": {},
   "outputs": [],
   "source": [
    "from src.constants import *\n",
    "from src.utils.common import read_yaml,create_directories"
   ]
  },
  {
   "cell_type": "code",
   "execution_count": 7,
   "metadata": {},
   "outputs": [],
   "source": [
    "class ConfigurationManager:\n",
    "    def __init__(self,config_filepath = CONFIG_FILE_PATH,params_filepath = PARAMS_FILE_PATH):\n",
    "        self.config = read_yaml(config_filepath)\n",
    "        self.params = read_yaml(params_filepath)\n",
    "\n",
    "        create_directories([self.config.data_root])\n",
    "\n",
    "    def get_model_evaluation_config(self) -> ModelEvaluatioConfig:\n",
    "        config = self.config.Model_evaluation\n",
    "        create_directories([config.root_dir])\n",
    "        model_evaluation_config = ModelEvaluatioConfig(\n",
    "            root_dir = config.root_dir,\n",
    "            model_path = config.model_path,\n",
    "            X_test_processed = config.X_test_processed,\n",
    "            y_test_processed = config.y_test_processed,\n",
    "            save_param = config.save_param\n",
    "        )\n",
    "        return model_evaluation_config\n"
   ]
  },
  {
   "cell_type": "code",
   "execution_count": 8,
   "metadata": {},
   "outputs": [],
   "source": [
    "from sklearn.metrics import accuracy_score,precision_score,recall_score,f1_score,confusion_matrix,classification_report,roc_auc_score\n",
    "import pandas as pd\n",
    "import pickle"
   ]
  },
  {
   "cell_type": "code",
   "execution_count": 17,
   "metadata": {},
   "outputs": [],
   "source": [
    "import pickle\n",
    "import pandas as pd\n",
    "import pandas as pd\n",
    "from sklearn.metrics import f1_score\n",
    "from sklearn.metrics import precision_score\n",
    "from sklearn.metrics import confusion_matrix\n",
    "\n",
    "class ModelEvaluate:\n",
    "    def __init__(self,config:ModelEvaluatioConfig):\n",
    "        self.config = config\n",
    "\n",
    "    \n",
    "    def metrics(self,actual,prediction):\n",
    "        acc_score = accuracy_score(actual, prediction)\n",
    "        conf_matrix = confusion_matrix(actual, prediction)\n",
    "        class_report = classification_report(actual, prediction)\n",
    "        return acc_score, conf_matrix, class_report\n",
    "    \n",
    "    def model_score(self):\n",
    "        model = pickle.load(open(self.config.model_path, 'rb'))\n",
    "        X_test = pd.read_csv(self.config.X_test_processed)\n",
    "        self.y_test = pd.read_csv(self.config.y_test_processed)\n",
    "\n",
    "        self.y_pred = model.predict(X_test)\n",
    "        print(f\"Model Accuracy Score: {accuracy_score(self.y_test, self.y_pred)}\")\n",
    "        print(f\"Model Confusion Matrix: {confusion_matrix(self.y_test, self.y_pred)}\")\n",
    "        print(f\"Model Classification Report: {classification_report(self.y_test, self.y_pred)}\")\n",
    "\n",
    "    \n",
    "    def save_metrics(self):\n",
    "        (acc_score, conf_matrix, class_report) = self.metrics(self.y_test, self.y_pred)\n",
    "        with open(self.config.save_param, 'w') as f:\n",
    "            f.write(f\"acc Score: {acc_score}\\n\")\n",
    "            f.write(f\"Confusion Matrix: {conf_matrix}\\n\")\n",
    "            f.write(f\"Classification Report: {class_report}\\n\")"
   ]
  },
  {
   "cell_type": "code",
   "execution_count": 19,
   "metadata": {},
   "outputs": [
    {
     "name": "stdout",
     "output_type": "stream",
     "text": [
      "[2024-08-29 11:44:58,054: INFO: common: Yaml file: config/config.yaml loaded successfully]\n",
      "[2024-08-29 11:44:58,057: INFO: common: Yaml file: params.yaml loaded successfully]\n",
      "[2024-08-29 11:44:58,059: INFO: common: created directory at: data]\n",
      "[2024-08-29 11:44:58,064: INFO: common: created directory at: data/Model_evaluation]\n",
      "Model Accuracy Score: 0.6111111111111112\n",
      "Model Confusion Matrix: [[1 0 0 0 0]\n",
      " [1 1 1 0 0]\n",
      " [0 2 1 0 0]\n",
      " [0 1 2 4 0]\n",
      " [0 0 0 0 4]]\n",
      "Model Classification Report:               precision    recall  f1-score   support\n",
      "\n",
      "           1       0.50      1.00      0.67         1\n",
      "           2       0.25      0.33      0.29         3\n",
      "           3       0.25      0.33      0.29         3\n",
      "           4       1.00      0.57      0.73         7\n",
      "           5       1.00      1.00      1.00         4\n",
      "\n",
      "    accuracy                           0.61        18\n",
      "   macro avg       0.60      0.65      0.59        18\n",
      "weighted avg       0.72      0.61      0.64        18\n",
      "\n"
     ]
    }
   ],
   "source": [
    "config = ConfigurationManager()\n",
    "model_evaluation_config = config.get_model_evaluation_config()\n",
    "model_evaluation = ModelEvaluate(config = model_evaluation_config)\n",
    "model_evaluation.model_score()\n",
    "model_evaluation.save_metrics()"
   ]
  },
  {
   "cell_type": "code",
   "execution_count": null,
   "metadata": {},
   "outputs": [],
   "source": []
  }
 ],
 "metadata": {
  "kernelspec": {
   "display_name": "studentMH",
   "language": "python",
   "name": "python3"
  },
  "language_info": {
   "codemirror_mode": {
    "name": "ipython",
    "version": 3
   },
   "file_extension": ".py",
   "mimetype": "text/x-python",
   "name": "python",
   "nbconvert_exporter": "python",
   "pygments_lexer": "ipython3",
   "version": "3.12.4"
  }
 },
 "nbformat": 4,
 "nbformat_minor": 2
}
