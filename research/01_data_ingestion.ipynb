{
 "cells": [
  {
   "cell_type": "code",
   "execution_count": 1,
   "metadata": {},
   "outputs": [
    {
     "data": {
      "text/plain": [
       "'/Users/bhikipallai/Desktop/Projects/Student_Mental_Health/Student_Mental_Health/research'"
      ]
     },
     "execution_count": 1,
     "metadata": {},
     "output_type": "execute_result"
    }
   ],
   "source": [
    "%pwd"
   ]
  },
  {
   "cell_type": "code",
   "execution_count": 2,
   "metadata": {},
   "outputs": [],
   "source": [
    "import os"
   ]
  },
  {
   "cell_type": "code",
   "execution_count": 3,
   "metadata": {},
   "outputs": [],
   "source": [
    "os.chdir(\"../.\")"
   ]
  },
  {
   "cell_type": "code",
   "execution_count": 4,
   "metadata": {},
   "outputs": [
    {
     "data": {
      "text/plain": [
       "'/Users/bhikipallai/Desktop/Projects/Student_Mental_Health/Student_Mental_Health'"
      ]
     },
     "execution_count": 4,
     "metadata": {},
     "output_type": "execute_result"
    }
   ],
   "source": [
    "%pwd"
   ]
  },
  {
   "cell_type": "code",
   "execution_count": 5,
   "metadata": {},
   "outputs": [],
   "source": [
    "from dataclasses import dataclass\n",
    "from pathlib import Path\n",
    "\n",
    "@dataclass(frozen=True)\n",
    "class DataIngestionConfig:\n",
    "    root_dir: Path\n",
    "    data_path: Path"
   ]
  },
  {
   "cell_type": "code",
   "execution_count": 6,
   "metadata": {},
   "outputs": [],
   "source": [
    "# for configmanger\n",
    "from src.constants import *\n",
    "from src.utils.common import read_yaml, create_directories"
   ]
  },
  {
   "cell_type": "code",
   "execution_count": 7,
   "metadata": {},
   "outputs": [],
   "source": [
    "\n",
    "class ConfigurationManager:\n",
    "    def __init__(self,config_filepath = CONFIG_FILE_PATH,params_filepath = PARAMS_FILE_PATH):\n",
    "        self.config = read_yaml(config_filepath)\n",
    "        self.params = read_yaml(params_filepath)\n",
    "\n",
    "        create_directories([self.config.data_root])\n",
    "    \n",
    "    def get_data_ingestion_config(self):\n",
    "        config = self.config.data_ingestion\n",
    "        create_directories([config.root_dir])\n",
    "        data_ingestion_config = DataIngestionConfig(\n",
    "            root_dir=config.root_dir,\n",
    "            data_path=config.data_path,\n",
    "        )\n",
    "    \n",
    "        return data_ingestion_config\n"
   ]
  },
  {
   "cell_type": "code",
   "execution_count": 8,
   "metadata": {},
   "outputs": [],
   "source": [
    "import os\n",
    "import zipfile\n",
    "import urllib.request as request\n",
    "import pandas as pd\n",
    "from src.logging import logger"
   ]
  },
  {
   "cell_type": "code",
   "execution_count": 9,
   "metadata": {},
   "outputs": [],
   "source": [
    "import pandas as pd\n",
    "import pandas as pd\n",
    "import pandas as pd\n",
    "import shutil\n",
    "import shutil\n",
    "import shutil\n",
    "class data_ingestion:\n",
    "    def __init__(self,config: DataIngestionConfig):\n",
    "        self.config = config\n",
    "\n",
    "    def move_file_to_data_ingestion(self):\n",
    "        if not os.path.exists(self.config.root_dir):\n",
    "            shutil.move(self.config.data_path, self.config.root_dir)\n",
    "        else:\n",
    "            print(f\"File {self.config.root_dir} already exists, skipping move.\")\n",
    "\n",
    "    def get_data(self):\n",
    "        df = pd.read_csv(self.config.data_path)\n",
    "        print(df.head())\n",
    "        return df"
   ]
  },
  {
   "cell_type": "code",
   "execution_count": 10,
   "metadata": {},
   "outputs": [
    {
     "name": "stdout",
     "output_type": "stream",
     "text": [
      "[2024-08-28 07:44:06,460: INFO: common: Yaml file: config/config.yaml loaded successfully]\n",
      "[2024-08-28 07:44:06,462: INFO: common: Yaml file: params.yaml loaded successfully]\n",
      "[2024-08-28 07:44:06,462: INFO: common: created directory at: data]\n",
      "[2024-08-28 07:44:06,463: INFO: common: created directory at: data/data_ingestion]\n",
      "   gender  age university   degree_level      degree_major academic_year  \\\n",
      "0    Male   20         PU  Undergraduate      Data Science      2nd year   \n",
      "1    Male   20        UET   Postgraduate  Computer Science      3rd year   \n",
      "2    Male   20       FAST  Undergraduate  Computer Science      3rd year   \n",
      "3    Male   20        UET  Undergraduate  Computer Science      3rd year   \n",
      "4  Female   20        UET  Undergraduate  Computer Science      3rd year   \n",
      "\n",
      "      cgpa residential_status campus_discrimination sports_engagement  ...  \\\n",
      "0  3.0-3.5         Off-Campus                    No         No Sports  ...   \n",
      "1  3.0-3.5         Off-Campus                    No         1-3 times  ...   \n",
      "2  2.5-3.0         Off-Campus                    No         1-3 times  ...   \n",
      "3  2.5-3.0          On-Campus                    No         No Sports  ...   \n",
      "4  3.0-3.5         Off-Campus                   Yes         No Sports  ...   \n",
      "\n",
      "  study_satisfaction  academic_workload   academic_pressure  \\\n",
      "0                  5                   4                  5   \n",
      "1                  5                   4                  4   \n",
      "2                  5                   5                  5   \n",
      "3                  3                   5                  4   \n",
      "4                  3                   5                  5   \n",
      "\n",
      "   financial_concerns  social_relationships  depression  anxiety  isolation  \\\n",
      "0                   4                     3           2        1          1   \n",
      "1                   1                     3           3        3          3   \n",
      "2                   3                     4           2        3          3   \n",
      "3                   4                     1           5        5          5   \n",
      "4                   2                     3           5        5          4   \n",
      "\n",
      "   future_insecurity                           stress_relief_activities  \n",
      "0                  2  Religious Activities, Social Connections, Onli...  \n",
      "1                  4                               Online Entertainment  \n",
      "2                  1  Religious Activities, Sports and Fitness, Onli...  \n",
      "3                  3                               Online Entertainment  \n",
      "4                  4                               Online Entertainment  \n",
      "\n",
      "[5 rows x 21 columns]\n",
      "File data/data_ingestion already exists, skipping move.\n"
     ]
    }
   ],
   "source": [
    "try:\n",
    "    config = ConfigurationManager()\n",
    "    data_ingestion_config = config.get_data_ingestion_config()\n",
    "    data_ingestion = data_ingestion(config=data_ingestion_config)\n",
    "    data_ingestion.get_data()\n",
    "    data_ingestion.move_file_to_data_ingestion()\n",
    "except Exception as e:\n",
    "    raise e"
   ]
  },
  {
   "cell_type": "code",
   "execution_count": null,
   "metadata": {},
   "outputs": [],
   "source": []
  },
  {
   "cell_type": "code",
   "execution_count": null,
   "metadata": {},
   "outputs": [],
   "source": []
  },
  {
   "cell_type": "code",
   "execution_count": null,
   "metadata": {},
   "outputs": [],
   "source": []
  }
 ],
 "metadata": {
  "kernelspec": {
   "display_name": "studentMH",
   "language": "python",
   "name": "python3"
  },
  "language_info": {
   "codemirror_mode": {
    "name": "ipython",
    "version": 3
   },
   "file_extension": ".py",
   "mimetype": "text/x-python",
   "name": "python",
   "nbconvert_exporter": "python",
   "pygments_lexer": "ipython3",
   "version": "3.12.4"
  }
 },
 "nbformat": 4,
 "nbformat_minor": 2
}
